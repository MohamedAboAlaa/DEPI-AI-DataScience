{
 "cells": [
  {
   "cell_type": "markdown",
   "metadata": {},
   "source": [
    "## Python Task 2"
   ]
  },
  {
   "cell_type": "markdown",
   "metadata": {},
   "source": [
    "### Question: Extract and Analyze List Slices\n",
    "\n",
    "**Description:** Given a list of tuples, where each tuple contains information about a product (product name, price, and quantity), write a program that extracts the product names and prints the names of products with prices above a certain threshold using list slicing and if statements. \n",
    "\n",
    "The threshold should be set within your code."
   ]
  },
  {
   "cell_type": "code",
   "execution_count": null,
   "metadata": {},
   "outputs": [],
   "source": [
    "'''\n",
    "# Example Input:\n",
    "products = [\n",
    "    (\"Laptop\", 1200, 5),\n",
    "    (\"Smartphone\", 700, 10),\n",
    "    (\"Headphones\", 150, 15),\n",
    "    (\"Monitor\", 300, 7)\n",
    "]\n",
    "threshold = 500\n",
    "\n",
    "# Expected Output:\n",
    "Products above the price threshold: ['Laptop', 'Smartphone']\n",
    "'''"
   ]
  },
  {
   "cell_type": "code",
   "execution_count": null,
   "metadata": {},
   "outputs": [
    {
     "name": "stdout",
     "output_type": "stream",
     "text": [
      "Products above the price threshold: ['Laptop', 'Smartphone']\n"
     ]
    }
   ],
   "source": [
    "def prod_fun(prods, th):\n",
    "    prod_nms = [prods[0] for prods in prods if prods[1] > th]\n",
    "    return prod_nms\n",
    "\n",
    "products = [\n",
    "    (\"Laptop\", 1200, 5),\n",
    "    (\"Smartphone\", 700, 10),\n",
    "    (\"Headphones\", 150, 15),\n",
    "    (\"Monitor\", 300, 7)\n",
    "]\n",
    "\n",
    "threshold = 300\n",
    "\n",
    "r = prod_fun(products, threshold)\n",
    "print(f\"Products above the price threshold: {r}\")\n"
   ]
  },
  {
   "cell_type": "markdown",
   "metadata": {},
   "source": [
    "### Question: Update Dictionary with Tuple Data\n",
    "Description: You have a dictionary where keys are employee IDs and values are their current salaries. You also have a list of tuples where each tuple contains an employee ID and a percentage increment to their salary. Write code to update the salaries in the dictionary based on the increment provided in the list of tuples. \n",
    "\n",
    "Use if statements to ensure that only existing employees in the dictionary are updated."
   ]
  },
  {
   "cell_type": "code",
   "execution_count": null,
   "metadata": {},
   "outputs": [],
   "source": [
    "'''\n",
    "# Example Input:\n",
    "salaries = {\n",
    "    101: 50000,\n",
    "    102: 60000,\n",
    "    103: 55000\n",
    "}\n",
    "increments = [\n",
    "    (101, 10),  # 10% increment\n",
    "    (104, 5),   # 5% increment, not in salaries\n",
    "    (102, 15)\n",
    "]\n",
    "\n",
    "# Expected Output:\n",
    "Updated salaries: {101: 55000, 102: 69000, 103: 55000}\n",
    "'''"
   ]
  },
  {
   "cell_type": "code",
   "execution_count": 2,
   "metadata": {},
   "outputs": [
    {
     "name": "stdout",
     "output_type": "stream",
     "text": [
      "Updated salaries: {101: 55000.0, 102: 69000.0, 103: 55000}\n"
     ]
    }
   ],
   "source": [
    "def update_salaries(salaries, increments):\n",
    "    for emp_id, increment in increments:\n",
    "        if emp_id in salaries:\n",
    "            salaries[emp_id] += (salaries[emp_id] * increment / 100)\n",
    "    \n",
    "    return salaries\n",
    "\n",
    "salaries = {\n",
    "    101: 50000,\n",
    "    102: 60000,\n",
    "    103: 55000\n",
    "}\n",
    "increments = [\n",
    "    (101, 10),  # 10% increment\n",
    "    (104, 5),   # 5% increment, not in salaries\n",
    "    (102, 15)\n",
    "]\n",
    "updated_salaries = update_salaries(salaries, increments)\n",
    "print(f\"Updated salaries: {updated_salaries}\")\n"
   ]
  }
 ],
 "metadata": {
  "kernelspec": {
   "display_name": "base",
   "language": "python",
   "name": "python3"
  },
  "language_info": {
   "codemirror_mode": {
    "name": "ipython",
    "version": 3
   },
   "file_extension": ".py",
   "mimetype": "text/x-python",
   "name": "python",
   "nbconvert_exporter": "python",
   "pygments_lexer": "ipython3",
   "version": "3.12.7"
  }
 },
 "nbformat": 4,
 "nbformat_minor": 2
}
